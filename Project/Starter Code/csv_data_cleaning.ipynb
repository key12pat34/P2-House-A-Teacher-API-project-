{
 "cells": [
  {
   "cell_type": "code",
   "execution_count": 139,
   "metadata": {},
   "outputs": [],
   "source": [
    "# Dependecies\n",
    "import numpy as np\n",
    "import pandas as pd"
   ]
  },
  {
   "cell_type": "code",
   "execution_count": 140,
   "metadata": {},
   "outputs": [],
   "source": [
    "schools_in_georgia_df = pd.read_csv('static/Schools_in_the_State_of_Georgia_2019 (1).csv', na_filter=False)\n",
    "schools_in_georgia_df = pd.read_csv('static/Schools_in_the_State_of_Georgia_2019 (1).csv')\n",
    "schools_in_georgia_df = schools_in_georgia_df[['SchoolID','longitude','latitude','SchoolAddress','SchoolCity','STATE','SchoolZipCode',\n",
    "                         'PrincipalName','PrincipalEmail', 'OBJECTID','SchoolName','SystemID',\n",
    "                                        'Type','SchoolPhone','ENROLLMENT_COUNT',\n",
    "                                        'TeacherCount','pYrsLt1','pYears1_10',\n",
    "                                        'pYears11_20','pYears21_30','pYearsGt30', 'SystemName']]"
   ]
  },
  {
   "source": [
    "schools_in_georgia_df = schools_in_georgia_df.dropna()\n",
    "schools_in_georgia_df.count()\n"
   ],
   "cell_type": "code",
   "metadata": {},
   "execution_count": 141,
   "outputs": [
    {
     "output_type": "execute_result",
     "data": {
      "text/plain": [
       "SchoolID            2246\n",
       "longitude           2246\n",
       "latitude            2246\n",
       "SchoolAddress       2246\n",
       "SchoolCity          2246\n",
       "STATE               2246\n",
       "SchoolZipCode       2246\n",
       "PrincipalName       2246\n",
       "PrincipalEmail      2246\n",
       "OBJECTID            2246\n",
       "SchoolName          2246\n",
       "SystemID            2246\n",
       "Type                2246\n",
       "SchoolPhone         2246\n",
       "ENROLLMENT_COUNT    2246\n",
       "TeacherCount        2246\n",
       "pYrsLt1             2246\n",
       "pYears1_10          2246\n",
       "pYears11_20         2246\n",
       "pYears21_30         2246\n",
       "pYearsGt30          2246\n",
       "SystemName          2246\n",
       "dtype: int64"
      ]
     },
     "metadata": {},
     "execution_count": 141
    }
   ]
  },
  {
   "cell_type": "code",
   "execution_count": 155,
   "metadata": {},
   "outputs": [
    {
     "output_type": "execute_result",
     "data": {
      "text/plain": [
       "    Longitude   Latitude          School Address SchoolCity State  \\\n",
       "ID                                                                  \n",
       "1  -82.354643  31.757891      482 Blackshear Hwy     Baxley    GA   \n",
       "2  -82.354206  31.754550      680 Blackshear Hwy     Baxley    GA   \n",
       "3  -82.339760  31.723121     2997 Blackshear Hwy     Baxley    GA   \n",
       "4  -82.354167  31.754715      678 Blackshear Hwy     Baxley    GA   \n",
       "5  -82.361791  31.876130  344 Altamaha School Rd     Baxley    GA   \n",
       "\n",
       "   School Zip Code  \n",
       "ID                  \n",
       "1       31513-6708  \n",
       "2       31513-6709  \n",
       "3       31513-4303  \n",
       "4       31513-6709  \n",
       "5       31513-2670  "
      ],
      "text/html": "<div>\n<style scoped>\n    .dataframe tbody tr th:only-of-type {\n        vertical-align: middle;\n    }\n\n    .dataframe tbody tr th {\n        vertical-align: top;\n    }\n\n    .dataframe thead th {\n        text-align: right;\n    }\n</style>\n<table border=\"1\" class=\"dataframe\">\n  <thead>\n    <tr style=\"text-align: right;\">\n      <th></th>\n      <th>Longitude</th>\n      <th>Latitude</th>\n      <th>School Address</th>\n      <th>SchoolCity</th>\n      <th>State</th>\n      <th>School Zip Code</th>\n    </tr>\n    <tr>\n      <th>ID</th>\n      <th></th>\n      <th></th>\n      <th></th>\n      <th></th>\n      <th></th>\n      <th></th>\n    </tr>\n  </thead>\n  <tbody>\n    <tr>\n      <th>1</th>\n      <td>-82.354643</td>\n      <td>31.757891</td>\n      <td>482 Blackshear Hwy</td>\n      <td>Baxley</td>\n      <td>GA</td>\n      <td>31513-6708</td>\n    </tr>\n    <tr>\n      <th>2</th>\n      <td>-82.354206</td>\n      <td>31.754550</td>\n      <td>680 Blackshear Hwy</td>\n      <td>Baxley</td>\n      <td>GA</td>\n      <td>31513-6709</td>\n    </tr>\n    <tr>\n      <th>3</th>\n      <td>-82.339760</td>\n      <td>31.723121</td>\n      <td>2997 Blackshear Hwy</td>\n      <td>Baxley</td>\n      <td>GA</td>\n      <td>31513-4303</td>\n    </tr>\n    <tr>\n      <th>4</th>\n      <td>-82.354167</td>\n      <td>31.754715</td>\n      <td>678 Blackshear Hwy</td>\n      <td>Baxley</td>\n      <td>GA</td>\n      <td>31513-6709</td>\n    </tr>\n    <tr>\n      <th>5</th>\n      <td>-82.361791</td>\n      <td>31.876130</td>\n      <td>344 Altamaha School Rd</td>\n      <td>Baxley</td>\n      <td>GA</td>\n      <td>31513-2670</td>\n    </tr>\n  </tbody>\n</table>\n</div>"
     },
     "metadata": {},
     "execution_count": 155
    }
   ],
   "source": [
    "locationtable_df = schools_in_georgia_df[['OBJECTID','longitude','latitude','SchoolAddress','SchoolCity','STATE','SchoolZipCode']]\n",
    "locationtable_df.drop_duplicates()\n",
    "locationtable_df.columns = ['ID', 'Longitude', 'Latitude', 'School Address', 'SchoolCity', 'State', 'School Zip Code']\n",
    "locationtable_df['School Address'].replace(',', '', inplace=True, regex=True)\n",
    "locationtable_df.set_index('ID', inplace = True)\n",
    "locationtable_df.head()\n"
   ]
  },
  {
   "cell_type": "code",
   "execution_count": 156,
   "metadata": {},
   "outputs": [
    {
     "output_type": "execute_result",
     "data": {
      "text/plain": [
       "    Principal Name                   Principal Email\n",
       "ID                                                  \n",
       "1    Gene A. Starr          gstarr@appling.k12.ga.us\n",
       "2     Debra Crosby    debra.crosby@appling.k12.ga.us\n",
       "3   Cathy Campbell  Cathy.Campbell@appling.k12.ga.us\n",
       "4    Cindy Stewart    Shelly.Roppe@appling.k12.ga.us\n",
       "5    Rhonda Hollis   rhonda.hollis@appling.k12.ga.us"
      ],
      "text/html": "<div>\n<style scoped>\n    .dataframe tbody tr th:only-of-type {\n        vertical-align: middle;\n    }\n\n    .dataframe tbody tr th {\n        vertical-align: top;\n    }\n\n    .dataframe thead th {\n        text-align: right;\n    }\n</style>\n<table border=\"1\" class=\"dataframe\">\n  <thead>\n    <tr style=\"text-align: right;\">\n      <th></th>\n      <th>Principal Name</th>\n      <th>Principal Email</th>\n    </tr>\n    <tr>\n      <th>ID</th>\n      <th></th>\n      <th></th>\n    </tr>\n  </thead>\n  <tbody>\n    <tr>\n      <th>1</th>\n      <td>Gene A. Starr</td>\n      <td>gstarr@appling.k12.ga.us</td>\n    </tr>\n    <tr>\n      <th>2</th>\n      <td>Debra Crosby</td>\n      <td>debra.crosby@appling.k12.ga.us</td>\n    </tr>\n    <tr>\n      <th>3</th>\n      <td>Cathy Campbell</td>\n      <td>Cathy.Campbell@appling.k12.ga.us</td>\n    </tr>\n    <tr>\n      <th>4</th>\n      <td>Cindy Stewart</td>\n      <td>Shelly.Roppe@appling.k12.ga.us</td>\n    </tr>\n    <tr>\n      <th>5</th>\n      <td>Rhonda Hollis</td>\n      <td>rhonda.hollis@appling.k12.ga.us</td>\n    </tr>\n  </tbody>\n</table>\n</div>"
     },
     "metadata": {},
     "execution_count": 156
    }
   ],
   "source": [
    "printable_df = schools_in_georgia_df[['OBJECTID','PrincipalName','PrincipalEmail']]\n",
    "printable_df.columns = ['ID', 'Principal Name', 'Principal Email']\n",
    "printable_df.drop_duplicates()\n",
    "printable_df['Principal Name'] = printable_df['Principal Name'].str.split(', ').str[::-1].str.join(' ')\n",
    "printable_df['Principal Name'].replace(',', 'No Name Provided', inplace=True, regex=True)\n",
    "printable_df['Principal Email'].replace(',', '.', inplace=True, regex=True)\n",
    "printable_df.set_index('ID', inplace = True)\n",
    "printable_df.head()"
   ]
  },
  {
   "cell_type": "code",
   "execution_count": 157,
   "metadata": {},
   "outputs": [
    {
     "output_type": "execute_result",
     "data": {
      "text/plain": [
       "                         School Name  System ID               Type  \\\n",
       "ID                                                                   \n",
       "1         Appling County High School        601        High School   \n",
       "2   Appling County Elementary School        601  Elementary School   \n",
       "3       Appling County Middle School        601      Middle School   \n",
       "4      Appling County Primary School        601  Elementary School   \n",
       "5         Altamaha Elementary School        601  Elementary School   \n",
       "\n",
       "    School Phone  Enrollment Count  Teacher Count  \\\n",
       "ID                                                  \n",
       "1   912.367.8610             970.0           59.0   \n",
       "2   912.367.8640             551.0           45.0   \n",
       "3   912.367.8630             795.0           57.0   \n",
       "4   912.367.8642             516.0           50.0   \n",
       "5   912.367.3713             378.0           29.0   \n",
       "\n",
       "    Teachers Less Than 1 Year Experience (%)  \\\n",
       "ID                                             \n",
       "1                                        0.0   \n",
       "2                                        2.0   \n",
       "3                                        7.0   \n",
       "4                                        6.0   \n",
       "5                                        0.0   \n",
       "\n",
       "    Teachers Between 1 and 10 Years Experience (%)  \\\n",
       "ID                                                   \n",
       "1                                             29.0   \n",
       "2                                             24.0   \n",
       "3                                             33.0   \n",
       "4                                             26.0   \n",
       "5                                             21.0   \n",
       "\n",
       "    Teachers Between 11 and 20 Years Experience (%)  \\\n",
       "ID                                                    \n",
       "1                                              32.0   \n",
       "2                                              47.0   \n",
       "3                                              33.0   \n",
       "4                                              34.0   \n",
       "5                                              48.0   \n",
       "\n",
       "    Teachers Between 21 and 30 Years Experience (%)  \\\n",
       "ID                                                    \n",
       "1                                              31.0   \n",
       "2                                              20.0   \n",
       "3                                              23.0   \n",
       "4                                              32.0   \n",
       "5                                              24.0   \n",
       "\n",
       "    Teachers Greater Than 30 Years Experience (%)  \n",
       "ID                                                 \n",
       "1                                             9.0  \n",
       "2                                             7.0  \n",
       "3                                             4.0  \n",
       "4                                             2.0  \n",
       "5                                             7.0  "
      ],
      "text/html": "<div>\n<style scoped>\n    .dataframe tbody tr th:only-of-type {\n        vertical-align: middle;\n    }\n\n    .dataframe tbody tr th {\n        vertical-align: top;\n    }\n\n    .dataframe thead th {\n        text-align: right;\n    }\n</style>\n<table border=\"1\" class=\"dataframe\">\n  <thead>\n    <tr style=\"text-align: right;\">\n      <th></th>\n      <th>School Name</th>\n      <th>System ID</th>\n      <th>Type</th>\n      <th>School Phone</th>\n      <th>Enrollment Count</th>\n      <th>Teacher Count</th>\n      <th>Teachers Less Than 1 Year Experience (%)</th>\n      <th>Teachers Between 1 and 10 Years Experience (%)</th>\n      <th>Teachers Between 11 and 20 Years Experience (%)</th>\n      <th>Teachers Between 21 and 30 Years Experience (%)</th>\n      <th>Teachers Greater Than 30 Years Experience (%)</th>\n    </tr>\n    <tr>\n      <th>ID</th>\n      <th></th>\n      <th></th>\n      <th></th>\n      <th></th>\n      <th></th>\n      <th></th>\n      <th></th>\n      <th></th>\n      <th></th>\n      <th></th>\n      <th></th>\n    </tr>\n  </thead>\n  <tbody>\n    <tr>\n      <th>1</th>\n      <td>Appling County High School</td>\n      <td>601</td>\n      <td>High School</td>\n      <td>912.367.8610</td>\n      <td>970.0</td>\n      <td>59.0</td>\n      <td>0.0</td>\n      <td>29.0</td>\n      <td>32.0</td>\n      <td>31.0</td>\n      <td>9.0</td>\n    </tr>\n    <tr>\n      <th>2</th>\n      <td>Appling County Elementary School</td>\n      <td>601</td>\n      <td>Elementary School</td>\n      <td>912.367.8640</td>\n      <td>551.0</td>\n      <td>45.0</td>\n      <td>2.0</td>\n      <td>24.0</td>\n      <td>47.0</td>\n      <td>20.0</td>\n      <td>7.0</td>\n    </tr>\n    <tr>\n      <th>3</th>\n      <td>Appling County Middle School</td>\n      <td>601</td>\n      <td>Middle School</td>\n      <td>912.367.8630</td>\n      <td>795.0</td>\n      <td>57.0</td>\n      <td>7.0</td>\n      <td>33.0</td>\n      <td>33.0</td>\n      <td>23.0</td>\n      <td>4.0</td>\n    </tr>\n    <tr>\n      <th>4</th>\n      <td>Appling County Primary School</td>\n      <td>601</td>\n      <td>Elementary School</td>\n      <td>912.367.8642</td>\n      <td>516.0</td>\n      <td>50.0</td>\n      <td>6.0</td>\n      <td>26.0</td>\n      <td>34.0</td>\n      <td>32.0</td>\n      <td>2.0</td>\n    </tr>\n    <tr>\n      <th>5</th>\n      <td>Altamaha Elementary School</td>\n      <td>601</td>\n      <td>Elementary School</td>\n      <td>912.367.3713</td>\n      <td>378.0</td>\n      <td>29.0</td>\n      <td>0.0</td>\n      <td>21.0</td>\n      <td>48.0</td>\n      <td>24.0</td>\n      <td>7.0</td>\n    </tr>\n  </tbody>\n</table>\n</div>"
     },
     "metadata": {},
     "execution_count": 157
    }
   ],
   "source": [
    "schooltable_df = schools_in_georgia_df[['OBJECTID','SchoolName','SystemID',\n",
    "                                        'Type','SchoolPhone','ENROLLMENT_COUNT',\n",
    "                                        'TeacherCount','pYrsLt1','pYears1_10',\n",
    "                                        'pYears11_20','pYears21_30','pYearsGt30']]\n",
    "schooltable_df.drop_duplicates()\n",
    "schooltable_df.columns = ['ID', 'School Name','System ID',\n",
    "                          'Type','School Phone','Enrollment Count',\n",
    "                          'Teacher Count','Teachers Less Than 1 Year Experience (%)',\n",
    "                          'Teachers Between 1 and 10 Years Experience (%)',\n",
    "                          'Teachers Between 11 and 20 Years Experience (%)',\n",
    "                          'Teachers Between 21 and 30 Years Experience (%)',\n",
    "                          'Teachers Greater Than 30 Years Experience (%)']\n",
    "\n",
    "schooltable_df['School Name'].replace(',','', regex=True, inplace=True)\n",
    "schooltable_df.set_index('ID', inplace = True)\n",
    "schooltable_df.head()\n"
   ]
  },
  {
   "cell_type": "code",
   "execution_count": 158,
   "metadata": {},
   "outputs": [
    {
     "output_type": "execute_result",
     "data": {
      "text/plain": [
       "               System Name\n",
       "System ID                 \n",
       "601         Appling County\n",
       "602        Atkinson County\n",
       "603           Bacon County\n",
       "604           Baker County\n",
       "605         Baldwin County"
      ],
      "text/html": "<div>\n<style scoped>\n    .dataframe tbody tr th:only-of-type {\n        vertical-align: middle;\n    }\n\n    .dataframe tbody tr th {\n        vertical-align: top;\n    }\n\n    .dataframe thead th {\n        text-align: right;\n    }\n</style>\n<table border=\"1\" class=\"dataframe\">\n  <thead>\n    <tr style=\"text-align: right;\">\n      <th></th>\n      <th>System Name</th>\n    </tr>\n    <tr>\n      <th>System ID</th>\n      <th></th>\n    </tr>\n  </thead>\n  <tbody>\n    <tr>\n      <th>601</th>\n      <td>Appling County</td>\n    </tr>\n    <tr>\n      <th>602</th>\n      <td>Atkinson County</td>\n    </tr>\n    <tr>\n      <th>603</th>\n      <td>Bacon County</td>\n    </tr>\n    <tr>\n      <th>604</th>\n      <td>Baker County</td>\n    </tr>\n    <tr>\n      <th>605</th>\n      <td>Baldwin County</td>\n    </tr>\n  </tbody>\n</table>\n</div>"
     },
     "metadata": {},
     "execution_count": 158
    }
   ],
   "source": [
    "systemtable_df = pd.DataFrame()\n",
    "system_name = schools_in_georgia_df['SystemName'].unique()\n",
    "system_id = schools_in_georgia_df['SystemID'].unique()\n",
    "systemtable_df['System ID'] = system_id\n",
    "systemtable_df['System Name'] = system_name\n",
    "systemtable_df['System Name'].replace(',','', regex=True, inplace=True)\n",
    "systemtable_df.set_index('System ID', inplace = True)\n",
    "systemtable_df.head()"
   ]
  },
  {
   "cell_type": "code",
   "execution_count": 159,
   "metadata": {},
   "outputs": [],
   "source": [
    "locationtable_df.to_csv ('static/locationtable.csv', index = True, header=True)\n",
    "printable_df.to_csv ('static/printable.csv', index = True, header=True)\n",
    "schooltable_df.to_csv ('static/schooltable.csv', index = True, header=True)\n",
    "systemtable_df.to_csv ('static/systemtable.csv', index = True, header=True)"
   ]
  },
  {
   "cell_type": "code",
   "execution_count": null,
   "metadata": {},
   "outputs": [],
   "source": []
  },
  {
   "cell_type": "code",
   "execution_count": null,
   "metadata": {},
   "outputs": [],
   "source": []
  }
 ],
 "metadata": {
  "kernelspec": {
   "display_name": "Python 3",
   "language": "python",
   "name": "python3"
  },
  "language_info": {
   "codemirror_mode": {
    "name": "ipython",
    "version": 3
   },
   "file_extension": ".py",
   "mimetype": "text/x-python",
   "name": "python",
   "nbconvert_exporter": "python",
   "pygments_lexer": "ipython3",
   "version": "3.8.3-final"
  }
 },
 "nbformat": 4,
 "nbformat_minor": 4
}